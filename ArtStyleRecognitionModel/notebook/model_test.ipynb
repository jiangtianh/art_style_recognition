{
 "cells": [
  {
   "cell_type": "code",
   "execution_count": 3,
   "metadata": {},
   "outputs": [],
   "source": [
    "from tensorflow.keras.models import load_model\n",
    "\n",
    "# Load the saved model\n",
    "loaded_model = load_model('art_style_recognition_final_model.h5')"
   ]
  },
  {
   "cell_type": "code",
   "execution_count": 4,
   "metadata": {},
   "outputs": [
    {
     "name": "stdout",
     "output_type": "stream",
     "text": [
      "Found 5872 files belonging to 14 classes.\n"
     ]
    }
   ],
   "source": [
    "import tensorflow as tf\n",
    "\n",
    "TEST_DIR = \"../raw_data/wikiart/wikiart-target_style-class_14-keepgenre_True-merge_style_m1-flat_False/test\"\n",
    "\n",
    "BATCH_SIZE = 128 # Hyper param, you can tune it\n",
    "EPOCHS = 1000 # Large number, early stopping to stop training before this number\n",
    "IMG_HEIGHT = 224 # VGG's dim\n",
    "IMG_WIDTH = 224 # VGG's dim\n",
    "NUM_CLASSES = 14 # Number of art styles\n",
    "\n",
    "test_ds = tf.keras.preprocessing.image_dataset_from_directory(\n",
    "    directory=TEST_DIR,\n",
    "    labels='inferred',\n",
    "    image_size=(IMG_HEIGHT, IMG_WIDTH),\n",
    "    batch_size=BATCH_SIZE,\n",
    "    label_mode='categorical',\n",
    "    shuffle=True)\n",
    "\n",
    "assert len(test_ds.class_names) == NUM_CLASSES"
   ]
  },
  {
   "cell_type": "code",
   "execution_count": 5,
   "metadata": {},
   "outputs": [],
   "source": [
    "AUTOTUNE = tf.data.experimental.AUTOTUNE\n",
    "test_ds = test_ds.cache().prefetch(buffer_size=AUTOTUNE)"
   ]
  },
  {
   "cell_type": "code",
   "execution_count": 6,
   "metadata": {},
   "outputs": [
    {
     "name": "stdout",
     "output_type": "stream",
     "text": [
      "46/46 [==============================] - 630s 14s/step\n",
      "Top 5 classes for the first image: [ 6  1  4  3 10]\n",
      "Probabilities for the top 5 classes for the first image: [0.7638249  0.10111675 0.08073607 0.03000777 0.00939403]\n"
     ]
    }
   ],
   "source": [
    "test_predictions = loaded_model.predict(test_ds)\n",
    "\n",
    "top5_classes = tf.math.top_k(test_predictions, k=5).indices\n",
    "top5_probilities = tf.math.top_k(test_predictions, k=5).values\n",
    "\n",
    "print(\"Top 5 classes for the first image:\", top5_classes[0].numpy())\n",
    "print(\"Probabilities for the top 5 classes for the first image:\", top5_probilities[0].numpy())"
   ]
  },
  {
   "cell_type": "code",
   "execution_count": 9,
   "metadata": {},
   "outputs": [
    {
     "name": "stdout",
     "output_type": "stream",
     "text": [
      "4/4 [==============================] - 12s 3s/step\n",
      "4/4 [==============================] - 12s 3s/step\n",
      "4/4 [==============================] - 12s 3s/step\n",
      "4/4 [==============================] - 12s 3s/step\n",
      "4/4 [==============================] - 12s 3s/step\n",
      "4/4 [==============================] - 12s 3s/step\n",
      "4/4 [==============================] - 12s 3s/step\n",
      "4/4 [==============================] - 12s 3s/step\n",
      "4/4 [==============================] - 12s 3s/step\n",
      "4/4 [==============================] - 12s 3s/step\n",
      "4/4 [==============================] - 12s 3s/step\n",
      "4/4 [==============================] - 13s 3s/step\n",
      "4/4 [==============================] - 12s 3s/step\n",
      "4/4 [==============================] - 12s 3s/step\n",
      "4/4 [==============================] - 12s 3s/step\n",
      "4/4 [==============================] - 12s 3s/step\n",
      "4/4 [==============================] - 12s 3s/step\n",
      "4/4 [==============================] - 12s 3s/step\n",
      "4/4 [==============================] - 12s 3s/step\n",
      "4/4 [==============================] - 12s 3s/step\n",
      "4/4 [==============================] - 12s 3s/step\n",
      "4/4 [==============================] - 12s 3s/step\n",
      "4/4 [==============================] - 12s 3s/step\n",
      "4/4 [==============================] - 12s 3s/step\n",
      "4/4 [==============================] - 12s 3s/step\n",
      "4/4 [==============================] - 12s 3s/step\n",
      "4/4 [==============================] - 12s 3s/step\n",
      "4/4 [==============================] - 12s 3s/step\n",
      "4/4 [==============================] - 12s 3s/step\n",
      "4/4 [==============================] - 12s 3s/step\n",
      "4/4 [==============================] - 12s 3s/step\n",
      "4/4 [==============================] - 12s 3s/step\n",
      "4/4 [==============================] - 12s 3s/step\n",
      "4/4 [==============================] - 12s 3s/step\n",
      "4/4 [==============================] - 12s 3s/step\n",
      "4/4 [==============================] - 12s 3s/step\n",
      "4/4 [==============================] - 12s 3s/step\n",
      "4/4 [==============================] - 12s 3s/step\n",
      "4/4 [==============================] - 12s 3s/step\n",
      "4/4 [==============================] - 12s 3s/step\n",
      "4/4 [==============================] - 12s 3s/step\n",
      "4/4 [==============================] - 12s 3s/step\n",
      "4/4 [==============================] - 12s 3s/step\n",
      "4/4 [==============================] - 12s 3s/step\n",
      "4/4 [==============================] - 12s 3s/step\n",
      "4/4 [==============================] - 10s 2s/step\n",
      "Top-5 Accuracy: 0.9599184782608695\n"
     ]
    }
   ],
   "source": [
    "success_count = 0\n",
    "\n",
    "for images, labels in test_ds:\n",
    "    # Get the actual class numbers\n",
    "    true_labels = tf.argmax(labels, axis=1).numpy()\n",
    "\n",
    "    # Get the predicted class numbers\n",
    "    predicted_labels = tf.math.top_k(loaded_model.predict(images), k=5).indices.numpy()\n",
    "\n",
    "    # Check if the true label is in the predicted labels for each image\n",
    "    for i in range(len(true_labels)):\n",
    "        if true_labels[i] in predicted_labels[i]:\n",
    "            success_count += 1\n",
    "\n",
    "success_rate = success_count / (len(test_ds) * BATCH_SIZE)\n",
    "print(\"Top-5 Accuracy:\", success_rate)"
   ]
  },
  {
   "cell_type": "code",
   "execution_count": 10,
   "metadata": {},
   "outputs": [
    {
     "name": "stdout",
     "output_type": "stream",
     "text": [
      "46/46 [==============================] - 549s 12s/step - loss: 1.3052 - accuracy: 0.5894\n"
     ]
    }
   ],
   "source": [
    "test_loss, test_accuracy = loaded_model.evaluate(test_ds)"
   ]
  },
  {
   "cell_type": "code",
   "execution_count": 11,
   "metadata": {},
   "outputs": [
    {
     "name": "stdout",
     "output_type": "stream",
     "text": [
      "0.5894073843955994\n"
     ]
    }
   ],
   "source": [
    "print(test_accuracy)"
   ]
  }
 ],
 "metadata": {
  "kernelspec": {
   "display_name": ".venv",
   "language": "python",
   "name": "python3"
  },
  "language_info": {
   "codemirror_mode": {
    "name": "ipython",
    "version": 3
   },
   "file_extension": ".py",
   "mimetype": "text/x-python",
   "name": "python",
   "nbconvert_exporter": "python",
   "pygments_lexer": "ipython3",
   "version": "3.11.5"
  }
 },
 "nbformat": 4,
 "nbformat_minor": 2
}
